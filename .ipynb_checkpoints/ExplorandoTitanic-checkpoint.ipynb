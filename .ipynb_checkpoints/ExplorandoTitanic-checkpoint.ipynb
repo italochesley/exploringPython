{
 "cells": [
  {
   "cell_type": "code",
   "execution_count": 1,
   "metadata": {},
   "outputs": [],
   "source": [
    "titanic_csv = open('titanic.csv','r')"
   ]
  },
  {
   "cell_type": "code",
   "execution_count": null,
   "metadata": {},
   "outputs": [],
   "source": []
  },
  {
   "cell_type": "code",
   "execution_count": 2,
   "metadata": {},
   "outputs": [],
   "source": [
    "linhas = titanic_csv.readlines()"
   ]
  },
  {
   "cell_type": "code",
   "execution_count": 3,
   "metadata": {},
   "outputs": [
    {
     "data": {
      "text/plain": [
       "'23,1,3,\"McGowan, Miss. Anna \"\"Annie\"\"\",female,15,0,0,330923,8.0292,,Q\\n'"
      ]
     },
     "execution_count": 3,
     "metadata": {},
     "output_type": "execute_result"
    }
   ],
   "source": [
    "linhas[23]"
   ]
  },
  {
   "cell_type": "code",
   "execution_count": 4,
   "metadata": {},
   "outputs": [],
   "source": [
    "titanic_csv.close()"
   ]
  },
  {
   "cell_type": "code",
   "execution_count": 5,
   "metadata": {},
   "outputs": [],
   "source": [
    "colunas = linhas[0].split(',')"
   ]
  },
  {
   "cell_type": "code",
   "execution_count": 6,
   "metadata": {},
   "outputs": [
    {
     "data": {
      "text/plain": [
       "['PassengerId',\n",
       " 'Survived',\n",
       " 'Pclass',\n",
       " 'Name',\n",
       " 'Sex',\n",
       " 'Age',\n",
       " 'SibSp',\n",
       " 'Parch',\n",
       " 'Ticket',\n",
       " 'Fare',\n",
       " 'Cabin',\n",
       " 'Embarked\\n']"
      ]
     },
     "execution_count": 6,
     "metadata": {},
     "output_type": "execute_result"
    }
   ],
   "source": [
    "colunas"
   ]
  },
  {
   "cell_type": "code",
   "execution_count": 8,
   "metadata": {},
   "outputs": [],
   "source": [
    "dados = linhas[1].split(',')"
   ]
  },
  {
   "cell_type": "code",
   "execution_count": 9,
   "metadata": {},
   "outputs": [
    {
     "name": "stdout",
     "output_type": "stream",
     "text": [
      "Name\n",
      "\"Braund\n",
      "12 13\n"
     ]
    }
   ],
   "source": [
    "print(colunas[3])\n",
    "print(dados[3])\n",
    "print(len(colunas), len(dados))"
   ]
  },
  {
   "cell_type": "code",
   "execution_count": 10,
   "metadata": {},
   "outputs": [
    {
     "data": {
      "text/plain": [
       "'1,0,3,\" Mr. Owen Harris Braund\",male,22,1,0,A/5 21171,7.25,,S\\n'"
      ]
     },
     "execution_count": 10,
     "metadata": {},
     "output_type": "execute_result"
    }
   ],
   "source": [
    "import re\n",
    "match = re.compile(r'\"(.*)(,)(\\s.*)\"')\n",
    "match.sub(r'\"\\3 \\1\"', linhas[1])"
   ]
  },
  {
   "cell_type": "code",
   "execution_count": 16,
   "metadata": {},
   "outputs": [],
   "source": [
    "def tratar_nome(linha):\n",
    "    import re\n",
    "    match = re.compile(r'\"(.*)(,)(\\s.*)\"')\n",
    "    return match.sub(r'\"\\3 \\1\"', linha)"
   ]
  },
  {
   "cell_type": "code",
   "execution_count": 19,
   "metadata": {},
   "outputs": [
    {
     "data": {
      "text/plain": [
       "str"
      ]
     },
     "execution_count": 19,
     "metadata": {},
     "output_type": "execute_result"
    }
   ],
   "source": [
    "linha1_tratada = tratar_nome(linhas[1])\n",
    "type(linha1_tratada)"
   ]
  },
  {
   "cell_type": "code",
   "execution_count": 20,
   "metadata": {},
   "outputs": [],
   "source": [
    "linha1_separada = linha1_tratada.split(\",\")"
   ]
  },
  {
   "cell_type": "code",
   "execution_count": 23,
   "metadata": {},
   "outputs": [
    {
     "name": "stdout",
     "output_type": "stream",
     "text": [
      "['PassengerId', 'Survived', 'Pclass', 'Name', 'Sex', 'Age', 'SibSp', 'Parch', 'Ticket', 'Fare', 'Cabin', 'Embarked\\n']\n",
      "1,0,3,\" Mr. Owen Harris Braund\",male,22,1,0,A/5 21171,7.25,,S\n",
      "\n",
      "['1', '0', '3', '\" Mr. Owen Harris Braund\"', 'male', '22', '1', '0', 'A/5 21171', '7.25', '', 'S\\n']\n",
      "12 12\n"
     ]
    }
   ],
   "source": [
    "print(colunas)\n",
    "print(linha1_tratada)\n",
    "print(linha1_separada)\n",
    "print(len(colunas),len(linha1_separada))"
   ]
  },
  {
   "cell_type": "code",
   "execution_count": 24,
   "metadata": {},
   "outputs": [
    {
     "data": {
      "text/plain": [
       "{'Age': [],\n",
       " 'Cabin': [],\n",
       " 'Embarked\\n': [],\n",
       " 'Fare': [],\n",
       " 'Name': [],\n",
       " 'Parch': [],\n",
       " 'PassengerId': [],\n",
       " 'Pclass': [],\n",
       " 'Sex': [],\n",
       " 'SibSp': [],\n",
       " 'Survived': [],\n",
       " 'Ticket': []}"
      ]
     },
     "execution_count": 24,
     "metadata": {},
     "output_type": "execute_result"
    }
   ],
   "source": [
    "titanic_dados = {}\n",
    "for coluna in colunas:\n",
    "    titanic_dados[coluna] = []\n",
    "titanic_dados"
   ]
  },
  {
   "cell_type": "code",
   "execution_count": null,
   "metadata": {},
   "outputs": [],
   "source": [
    "dados_tratados = []\n",
    "for dado in linhas[1:]:\n",
    "    dado_tratado = tratar_nome(dado)\n",
    "    dado_como_lista = dado_tratado.split(',')\n",
    "    "
   ]
  }
 ],
 "metadata": {
  "kernelspec": {
   "display_name": "Python 3",
   "language": "python",
   "name": "python3"
  },
  "language_info": {
   "codemirror_mode": {
    "name": "ipython",
    "version": 3
   },
   "file_extension": ".py",
   "mimetype": "text/x-python",
   "name": "python",
   "nbconvert_exporter": "python",
   "pygments_lexer": "ipython3",
   "version": "3.6.4"
  }
 },
 "nbformat": 4,
 "nbformat_minor": 2
}
